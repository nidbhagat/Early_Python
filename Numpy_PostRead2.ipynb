{
  "nbformat": 4,
  "nbformat_minor": 0,
  "metadata": {
    "colab": {
      "provenance": [],
      "authorship_tag": "ABX9TyMg6RzTcNI37QvXEa8FYySO",
      "include_colab_link": true
    },
    "kernelspec": {
      "name": "python3",
      "display_name": "Python 3"
    },
    "language_info": {
      "name": "python"
    }
  },
  "cells": [
    {
      "cell_type": "markdown",
      "metadata": {
        "id": "view-in-github",
        "colab_type": "text"
      },
      "source": [
        "<a href=\"https://colab.research.google.com/github/nidbhagat/Early_Python/blob/main/Numpy_PostRead2.ipynb\" target=\"_parent\"><img src=\"https://colab.research.google.com/assets/colab-badge.svg\" alt=\"Open In Colab\"/></a>"
      ]
    },
    {
      "cell_type": "markdown",
      "metadata": {
        "id": "hpJSfCDaUS8Y"
      },
      "source": [
        "## Content\n",
        "\n",
        "- **Creating special arrays**\n",
        "    - `zeros()`\n",
        "    - `ones()`\n",
        "    - `diag()`\n",
        "    - `identity()`\n",
        "\n",
        "- **Numpy based Mathematical functions**\n",
        "\n",
        "    - **Absolute values**\n",
        "        - `np.absolute()`\n",
        "        - `np.abs()`\n",
        "\n",
        "    - **Trigonometric Functions**\n",
        "        - `np.sin()`, `np.cos()`\n",
        "        \n",
        "    - **Exponential and Logarithmic Functions**\n",
        "        - `np.exp()`, `np.log()`, `np.log2()`, `np.log10()`\n"
      ]
    },
    {
      "cell_type": "code",
      "source": [
        "import numpy as np"
      ],
      "metadata": {
        "id": "b8Kz9rO-R2Rd"
      },
      "execution_count": 1,
      "outputs": []
    },
    {
      "cell_type": "markdown",
      "source": [
        "#Creating special arrays using Numpy\n",
        "How will create numpy array with all zeros?"
      ],
      "metadata": {
        "id": "Sujt-5OYR5ps"
      }
    },
    {
      "cell_type": "code",
      "source": [
        "a = np.zeros(4)\n",
        "# 4 signifies the numbers of zeros in an array\n",
        "a"
      ],
      "metadata": {
        "colab": {
          "base_uri": "https://localhost:8080/"
        },
        "id": "EbFcgaEZR30l",
        "outputId": "83031c6c-aee0-42e4-aaf3-d2b79643f4c8"
      },
      "execution_count": 5,
      "outputs": [
        {
          "output_type": "execute_result",
          "data": {
            "text/plain": [
              "array([0., 0., 0., 0.])"
            ]
          },
          "metadata": {},
          "execution_count": 5
        }
      ]
    },
    {
      "cell_type": "code",
      "source": [
        "a.dtype # data type of the above array is a float"
      ],
      "metadata": {
        "colab": {
          "base_uri": "https://localhost:8080/"
        },
        "id": "UwjNOjjJSKJd",
        "outputId": "bd8bd6ad-e10f-4e90-fac5-93c69fccf65a"
      },
      "execution_count": 6,
      "outputs": [
        {
          "output_type": "execute_result",
          "data": {
            "text/plain": [
              "dtype('float64')"
            ]
          },
          "metadata": {},
          "execution_count": 6
        }
      ]
    },
    {
      "cell_type": "markdown",
      "source": [
        "####Can also create 2D array, by pass in shape (as tuple)"
      ],
      "metadata": {
        "id": "ladS7SyWSh1T"
      }
    },
    {
      "cell_type": "code",
      "source": [
        "np.zeros((3,2))"
      ],
      "metadata": {
        "colab": {
          "base_uri": "https://localhost:8080/"
        },
        "id": "1YzrXj2FSdQ1",
        "outputId": "6b2e51b8-b8cd-4655-a481-add23cb40c1f"
      },
      "execution_count": 8,
      "outputs": [
        {
          "output_type": "execute_result",
          "data": {
            "text/plain": [
              "array([[0., 0.],\n",
              "       [0., 0.],\n",
              "       [0., 0.]])"
            ]
          },
          "metadata": {},
          "execution_count": 8
        }
      ]
    },
    {
      "cell_type": "markdown",
      "source": [
        "#### How will you create numpy array with all ones?"
      ],
      "metadata": {
        "id": "EPiqcxDTS5sf"
      }
    },
    {
      "cell_type": "code",
      "source": [
        "np.ones(3)"
      ],
      "metadata": {
        "colab": {
          "base_uri": "https://localhost:8080/"
        },
        "id": "igHXeo6CS0hL",
        "outputId": "b53a0e8b-fac0-4b73-ba1a-f8e3e626e054"
      },
      "execution_count": 9,
      "outputs": [
        {
          "output_type": "execute_result",
          "data": {
            "text/plain": [
              "array([1., 1., 1.])"
            ]
          },
          "metadata": {},
          "execution_count": 9
        }
      ]
    },
    {
      "cell_type": "code",
      "source": [
        "# 2D\n",
        "np.ones((2,3))"
      ],
      "metadata": {
        "colab": {
          "base_uri": "https://localhost:8080/"
        },
        "id": "b3W-xT_zTAtG",
        "outputId": "3739df07-1224-481c-a5a5-580fd199df21"
      },
      "execution_count": 11,
      "outputs": [
        {
          "output_type": "execute_result",
          "data": {
            "text/plain": [
              "array([[1., 1., 1.],\n",
              "       [1., 1., 1.]])"
            ]
          },
          "metadata": {},
          "execution_count": 11
        }
      ]
    },
    {
      "cell_type": "markdown",
      "metadata": {
        "id": "V5ZKe1ZM1t05"
      },
      "source": [
        "#### Now, do we need `np.twos()`, `np.threes()`, `np.fours()`, .... `np.hundreds()`?\n",
        "\n",
        "- **NO**\n",
        "\n",
        "- We can just create array using `np.ones()` and **multiply** with **required value**"
      ]
    },
    {
      "cell_type": "code",
      "source": [
        "np.ones((3,3))*4"
      ],
      "metadata": {
        "colab": {
          "base_uri": "https://localhost:8080/"
        },
        "id": "shsTtj9sTlUW",
        "outputId": "179d1c49-144e-49e8-b624-3c30c1cc1778"
      },
      "execution_count": 12,
      "outputs": [
        {
          "output_type": "execute_result",
          "data": {
            "text/plain": [
              "array([[4., 4., 4.],\n",
              "       [4., 4., 4.],\n",
              "       [4., 4., 4.]])"
            ]
          },
          "metadata": {},
          "execution_count": 12
        }
      ]
    },
    {
      "cell_type": "markdown",
      "metadata": {
        "id": "DeyexBXh1t06"
      },
      "source": [
        "#### One more frequently appearing arrays are **diagional** **matrices**"
      ]
    },
    {
      "cell_type": "code",
      "source": [
        "np.diag([1,2,3,4])\n",
        "# we pass values for diagonal elements as a list, all other elements are zero"
      ],
      "metadata": {
        "colab": {
          "base_uri": "https://localhost:8080/"
        },
        "id": "o0yEds4wTpc4",
        "outputId": "9e3c3c45-dceb-4ce8-b730-758cdd3c6b55"
      },
      "execution_count": 13,
      "outputs": [
        {
          "output_type": "execute_result",
          "data": {
            "text/plain": [
              "array([[1, 0, 0, 0],\n",
              "       [0, 2, 0, 0],\n",
              "       [0, 0, 3, 0],\n",
              "       [0, 0, 0, 4]])"
            ]
          },
          "metadata": {},
          "execution_count": 13
        }
      ]
    },
    {
      "cell_type": "code",
      "source": [
        "np.diag([2,5,7])"
      ],
      "metadata": {
        "colab": {
          "base_uri": "https://localhost:8080/"
        },
        "id": "q2rcnVEaUbf7",
        "outputId": "59bbc34d-f484-40bf-e063-71334361ac81"
      },
      "execution_count": 14,
      "outputs": [
        {
          "output_type": "execute_result",
          "data": {
            "text/plain": [
              "array([[2, 0, 0],\n",
              "       [0, 5, 0],\n",
              "       [0, 0, 7]])"
            ]
          },
          "metadata": {},
          "execution_count": 14
        }
      ]
    },
    {
      "cell_type": "markdown",
      "metadata": {
        "id": "syD0oJON1t07"
      },
      "source": [
        "#### How will you create identity matrix?\n",
        "\n",
        "First of all, what are identity matrices\n",
        "\n",
        "- It's a **square matrix**\n",
        "- Where **all diagonal values are 1**\n",
        "- **All non-diagonal values are 0**"
      ]
    },
    {
      "cell_type": "code",
      "source": [
        "x = np.diag([1,1,1])\n",
        "# However, we have a function called identity() to create identity matrix, only difference is the dtype\n",
        "x"
      ],
      "metadata": {
        "colab": {
          "base_uri": "https://localhost:8080/"
        },
        "id": "vCxOOO9BUfYV",
        "outputId": "755a9ed7-9532-4fd0-f934-41c47c72dc81"
      },
      "execution_count": 18,
      "outputs": [
        {
          "output_type": "execute_result",
          "data": {
            "text/plain": [
              "array([[1, 0, 0],\n",
              "       [0, 1, 0],\n",
              "       [0, 0, 1]])"
            ]
          },
          "metadata": {},
          "execution_count": 18
        }
      ]
    },
    {
      "cell_type": "code",
      "source": [
        "x.dtype"
      ],
      "metadata": {
        "colab": {
          "base_uri": "https://localhost:8080/"
        },
        "id": "UasyNoyZUwHt",
        "outputId": "372172dd-fe49-42ff-da05-3b1d511d93ce"
      },
      "execution_count": 19,
      "outputs": [
        {
          "output_type": "execute_result",
          "data": {
            "text/plain": [
              "dtype('int64')"
            ]
          },
          "metadata": {},
          "execution_count": 19
        }
      ]
    },
    {
      "cell_type": "code",
      "source": [
        "y = np.identity(3)\n",
        "y"
      ],
      "metadata": {
        "colab": {
          "base_uri": "https://localhost:8080/"
        },
        "id": "KRYO6yivVIrl",
        "outputId": "41a917a6-896d-48b5-9763-e4b79fd04930"
      },
      "execution_count": 20,
      "outputs": [
        {
          "output_type": "execute_result",
          "data": {
            "text/plain": [
              "array([[1., 0., 0.],\n",
              "       [0., 1., 0.],\n",
              "       [0., 0., 1.]])"
            ]
          },
          "metadata": {},
          "execution_count": 20
        }
      ]
    },
    {
      "cell_type": "code",
      "source": [
        "y.dtype"
      ],
      "metadata": {
        "colab": {
          "base_uri": "https://localhost:8080/"
        },
        "id": "fawIZAnZVNRL",
        "outputId": "cdd9f25c-980b-4c1c-9e3d-31aebeec8788"
      },
      "execution_count": 21,
      "outputs": [
        {
          "output_type": "execute_result",
          "data": {
            "text/plain": [
              "dtype('float64')"
            ]
          },
          "metadata": {},
          "execution_count": 21
        }
      ]
    },
    {
      "cell_type": "markdown",
      "source": [
        "## Numpy Mathematical functions"
      ],
      "metadata": {
        "id": "x-nSit_Ow7hq"
      }
    },
    {
      "cell_type": "markdown",
      "metadata": {
        "id": "UUOYlXhsUS8z"
      },
      "source": [
        "### Absolute values\n",
        "\n",
        "At times, we might need to find absolute values of elements in array. Numpy provides a very easy-to-use function for this purpose\n",
        "\n"
      ]
    },
    {
      "cell_type": "markdown",
      "source": [
        "#### `np.absolute()`\n",
        "\n",
        "It calculate the absolute value element-wise. It returns an ndarray containing the absolute value of each element."
      ],
      "metadata": {
        "id": "v_jH-HLKxCfi"
      }
    },
    {
      "cell_type": "code",
      "source": [
        "x = np.array([-1.2, 1.2, -2])\n",
        "np.absolute(x)"
      ],
      "metadata": {
        "colab": {
          "base_uri": "https://localhost:8080/"
        },
        "id": "T1b1CJskVQWs",
        "outputId": "1b4ebf9f-01a3-4395-e9a0-3d959401ad62"
      },
      "execution_count": 22,
      "outputs": [
        {
          "output_type": "execute_result",
          "data": {
            "text/plain": [
              "array([1.2, 1.2, 2. ])"
            ]
          },
          "metadata": {},
          "execution_count": 22
        }
      ]
    },
    {
      "cell_type": "markdown",
      "metadata": {
        "id": "dsmhVgoeUS80"
      },
      "source": [
        "If the input is a complex value, like `x = a + ib`, the absolute value is $\\sqrt(a^2 + b^2)$. This is a scalar if x is a scalar."
      ]
    },
    {
      "cell_type": "code",
      "source": [
        "np.absolute(2+1j)"
      ],
      "metadata": {
        "colab": {
          "base_uri": "https://localhost:8080/"
        },
        "id": "TiXv9L20Yxs_",
        "outputId": "72815338-de6b-47bd-e11f-1241b65e6a43"
      },
      "execution_count": 25,
      "outputs": [
        {
          "output_type": "execute_result",
          "data": {
            "text/plain": [
              "2.23606797749979"
            ]
          },
          "metadata": {},
          "execution_count": 25
        }
      ]
    },
    {
      "cell_type": "markdown",
      "metadata": {
        "id": "vhEW88duUS80"
      },
      "source": [
        "#### `np.abs()`\n",
        "The `abs` function can be used as a shorthand for `np.absolute` on ndarrays."
      ]
    },
    {
      "cell_type": "markdown",
      "metadata": {
        "id": "KiCDihj7US87"
      },
      "source": [
        "### Trigonometric Functions\n",
        "\n",
        "In addition to arithmetic expressions using operators, Numpy provides functions for element-wise evaluation of many elementary trigonometric functions and operations.\n",
        "\n",
        "\n",
        "Each of these functions takes a single array (of arbitrary dimension) as input and returns a new array of the same shape, where for each element the function has been applied to the corresponding element in the input array.\n",
        "\n",
        "### `np.sin()`, `np.cos()`\n",
        "\n",
        "This function takes only one argument and is used to compute the sine function for all values in the array:"
      ]
    },
    {
      "cell_type": "code",
      "source": [
        "x = np.linspace(-1,1,11)\n",
        "x"
      ],
      "metadata": {
        "colab": {
          "base_uri": "https://localhost:8080/"
        },
        "id": "ZnRQQhRSZGPL",
        "outputId": "4721c44f-a9ab-402f-9725-a135b49f8d07"
      },
      "execution_count": 26,
      "outputs": [
        {
          "output_type": "execute_result",
          "data": {
            "text/plain": [
              "array([-1. , -0.8, -0.6, -0.4, -0.2,  0. ,  0.2,  0.4,  0.6,  0.8,  1. ])"
            ]
          },
          "metadata": {},
          "execution_count": 26
        }
      ]
    },
    {
      "cell_type": "code",
      "source": [
        "y = np.sin(np.pi*x)\n",
        "y"
      ],
      "metadata": {
        "colab": {
          "base_uri": "https://localhost:8080/"
        },
        "id": "mSkNc-AMaKHX",
        "outputId": "30f39af7-2659-4639-d498-274f9992c9de"
      },
      "execution_count": 30,
      "outputs": [
        {
          "output_type": "execute_result",
          "data": {
            "text/plain": [
              "array([-1.22464680e-16, -5.87785252e-01, -9.51056516e-01, -9.51056516e-01,\n",
              "       -5.87785252e-01,  0.00000000e+00,  5.87785252e-01,  9.51056516e-01,\n",
              "        9.51056516e-01,  5.87785252e-01,  1.22464680e-16])"
            ]
          },
          "metadata": {},
          "execution_count": 30
        }
      ]
    },
    {
      "cell_type": "code",
      "source": [
        "np.round(y,decimals=3)"
      ],
      "metadata": {
        "colab": {
          "base_uri": "https://localhost:8080/"
        },
        "id": "wdVU5dYqaP9T",
        "outputId": "0e743d7c-7f5d-4518-9132-10156c23d3c9"
      },
      "execution_count": 33,
      "outputs": [
        {
          "output_type": "execute_result",
          "data": {
            "text/plain": [
              "array([-0.   , -0.588, -0.951, -0.951, -0.588,  0.   ,  0.588,  0.951,\n",
              "        0.951,  0.588,  0.   ])"
            ]
          },
          "metadata": {},
          "execution_count": 33
        }
      ]
    },
    {
      "cell_type": "markdown",
      "metadata": {
        "id": "fEO3yC9FUS88"
      },
      "source": [
        "Here we also used the **constant** `np.pi` and the function `np.round()` to round the values of `y` to three decimals.\n",
        "\n",
        "\n",
        "Like the `np.sin` function, many of the elementary trigonometric math functions take one input array and produce one output array. We can also make these functions operate on two input arrays and return one array:\n",
        "\n",
        "#### For example: $\\sin^2x + \\cos^2x = 1$"
      ]
    },
    {
      "cell_type": "code",
      "source": [
        "np.add(np.sin(x)**2, np.cos(x)**2)"
      ],
      "metadata": {
        "colab": {
          "base_uri": "https://localhost:8080/"
        },
        "id": "Zn8JBdZaaWBX",
        "outputId": "a35c1711-54eb-4f82-9750-8e7e3a689d41"
      },
      "execution_count": 34,
      "outputs": [
        {
          "output_type": "execute_result",
          "data": {
            "text/plain": [
              "array([1., 1., 1., 1., 1., 1., 1., 1., 1., 1., 1.])"
            ]
          },
          "metadata": {},
          "execution_count": 34
        }
      ]
    },
    {
      "cell_type": "code",
      "source": [
        "np.sin(x)**2 + np.cos(x)**2"
      ],
      "metadata": {
        "colab": {
          "base_uri": "https://localhost:8080/"
        },
        "id": "gbL92NXkbRbH",
        "outputId": "21ba2484-266c-48cd-950b-dd7c117579ec"
      },
      "execution_count": 35,
      "outputs": [
        {
          "output_type": "execute_result",
          "data": {
            "text/plain": [
              "array([1., 1., 1., 1., 1., 1., 1., 1., 1., 1., 1.])"
            ]
          },
          "metadata": {},
          "execution_count": 35
        }
      ]
    },
    {
      "cell_type": "markdown",
      "metadata": {
        "id": "68lkLsthUS89"
      },
      "source": [
        "### Exponential and Logarithmic Functions\n",
        "\n",
        "#### `np.exp()`\n",
        "\n",
        "This function returns element-wise exponent raised to power of element's value"
      ]
    },
    {
      "cell_type": "code",
      "source": [
        "x = np.arange(0,3)\n",
        "x"
      ],
      "metadata": {
        "colab": {
          "base_uri": "https://localhost:8080/"
        },
        "id": "2jD_oVt1bYl_",
        "outputId": "7d3f6ad2-c991-40bd-c966-190343a1046e"
      },
      "execution_count": 36,
      "outputs": [
        {
          "output_type": "execute_result",
          "data": {
            "text/plain": [
              "array([0, 1, 2])"
            ]
          },
          "metadata": {},
          "execution_count": 36
        }
      ]
    },
    {
      "cell_type": "code",
      "source": [
        "np.exp(x) # returns e**0, e**1, e**2"
      ],
      "metadata": {
        "colab": {
          "base_uri": "https://localhost:8080/"
        },
        "id": "6ZeRYjUgbyuL",
        "outputId": "d4634732-5d17-4f33-dc6a-95c2eafccb84"
      },
      "execution_count": 37,
      "outputs": [
        {
          "output_type": "execute_result",
          "data": {
            "text/plain": [
              "array([1.        , 2.71828183, 7.3890561 ])"
            ]
          },
          "metadata": {},
          "execution_count": 37
        }
      ]
    },
    {
      "cell_type": "markdown",
      "metadata": {
        "id": "XPsVQFkdUS89"
      },
      "source": [
        "#### `np.log()`, `np.log2()`, `np.log10()`\n",
        "\n",
        "These functions return Logarithms of base e, 2, and 10, respectively."
      ]
    },
    {
      "cell_type": "code",
      "source": [
        "x = np.arange(1,11)\n",
        "x"
      ],
      "metadata": {
        "colab": {
          "base_uri": "https://localhost:8080/"
        },
        "id": "NKlk42_ncYGp",
        "outputId": "95dcb487-7bdb-42c4-c37a-d39e4f34cb75"
      },
      "execution_count": 42,
      "outputs": [
        {
          "output_type": "execute_result",
          "data": {
            "text/plain": [
              "array([ 1,  2,  3,  4,  5,  6,  7,  8,  9, 10])"
            ]
          },
          "metadata": {},
          "execution_count": 42
        }
      ]
    },
    {
      "cell_type": "code",
      "source": [
        "np.log(x)"
      ],
      "metadata": {
        "colab": {
          "base_uri": "https://localhost:8080/"
        },
        "id": "WxWB7jVUb56i",
        "outputId": "82df1fee-2e95-4ab8-8e0d-00653dac31c5"
      },
      "execution_count": 43,
      "outputs": [
        {
          "output_type": "execute_result",
          "data": {
            "text/plain": [
              "array([0.        , 0.69314718, 1.09861229, 1.38629436, 1.60943791,\n",
              "       1.79175947, 1.94591015, 2.07944154, 2.19722458, 2.30258509])"
            ]
          },
          "metadata": {},
          "execution_count": 43
        }
      ]
    },
    {
      "cell_type": "code",
      "source": [
        "np.log10(x)"
      ],
      "metadata": {
        "colab": {
          "base_uri": "https://localhost:8080/"
        },
        "id": "Uv_XH_zHcD_U",
        "outputId": "5ce0170f-1ba9-4bd9-a446-6bc106081ec3"
      },
      "execution_count": 44,
      "outputs": [
        {
          "output_type": "execute_result",
          "data": {
            "text/plain": [
              "array([0.        , 0.30103   , 0.47712125, 0.60205999, 0.69897   ,\n",
              "       0.77815125, 0.84509804, 0.90308999, 0.95424251, 1.        ])"
            ]
          },
          "metadata": {},
          "execution_count": 44
        }
      ]
    },
    {
      "cell_type": "markdown",
      "metadata": {
        "id": "DZjDtntTUS8-"
      },
      "source": [
        "***\n"
      ]
    }
  ]
}