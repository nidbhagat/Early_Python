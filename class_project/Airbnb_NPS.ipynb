{
  "nbformat": 4,
  "nbformat_minor": 0,
  "metadata": {
    "colab": {
      "provenance": [],
      "authorship_tag": "ABX9TyO2bTNFDm/lmCXrpEoJ2mky",
      "include_colab_link": true
    },
    "kernelspec": {
      "name": "python3",
      "display_name": "Python 3"
    },
    "language_info": {
      "name": "python"
    }
  },
  "cells": [
    {
      "cell_type": "markdown",
      "metadata": {
        "id": "view-in-github",
        "colab_type": "text"
      },
      "source": [
        "<a href=\"https://colab.research.google.com/github/nidbhagat/Early_Python/blob/main/class_project/Airbnb_NPS.ipynb\" target=\"_parent\"><img src=\"https://colab.research.google.com/assets/colab-badge.svg\" alt=\"Open In Colab\"/></a>"
      ]
    },
    {
      "cell_type": "code",
      "source": [
        "!gdown 1c0ClC8SrPwJq5rrkyMKyPn80nyHcFikK"
      ],
      "metadata": {
        "colab": {
          "base_uri": "https://localhost:8080/"
        },
        "id": "hCw1J1ylrFW1",
        "outputId": "6494f252-575b-4cd9-aeec-43744a08975f"
      },
      "execution_count": 7,
      "outputs": [
        {
          "output_type": "stream",
          "name": "stdout",
          "text": [
            "Downloading...\n",
            "From: https://drive.google.com/uc?id=1c0ClC8SrPwJq5rrkyMKyPn80nyHcFikK\n",
            "To: /content/survey.txt\n",
            "\r  0% 0.00/2.55k [00:00<?, ?B/s]\r100% 2.55k/2.55k [00:00<00:00, 11.1MB/s]\n"
          ]
        }
      ]
    },
    {
      "cell_type": "code",
      "source": [
        "score = np.loadtxt('survey.txt',dtype='int')"
      ],
      "metadata": {
        "id": "UvZj0HW2qkqw"
      },
      "execution_count": 8,
      "outputs": []
    },
    {
      "cell_type": "code",
      "source": [
        "score"
      ],
      "metadata": {
        "colab": {
          "base_uri": "https://localhost:8080/"
        },
        "id": "g74aTKlIq_4M",
        "outputId": "65d561d7-9814-484d-e86e-566dce063f50"
      },
      "execution_count": 9,
      "outputs": [
        {
          "output_type": "execute_result",
          "data": {
            "text/plain": [
              "array([ 7, 10,  5, ...,  5,  9, 10])"
            ]
          },
          "metadata": {},
          "execution_count": 9
        }
      ]
    },
    {
      "cell_type": "code",
      "source": [
        "score.ndim"
      ],
      "metadata": {
        "colab": {
          "base_uri": "https://localhost:8080/"
        },
        "id": "FwpA3YM2rMOh",
        "outputId": "53543e84-2d10-4b56-fd45-fe35583edf6f"
      },
      "execution_count": 10,
      "outputs": [
        {
          "output_type": "execute_result",
          "data": {
            "text/plain": [
              "1"
            ]
          },
          "metadata": {},
          "execution_count": 10
        }
      ]
    },
    {
      "cell_type": "code",
      "source": [
        "score.shape"
      ],
      "metadata": {
        "colab": {
          "base_uri": "https://localhost:8080/"
        },
        "id": "saVTQVvCrN_W",
        "outputId": "d5f873fd-1694-4117-912a-346677a22584"
      },
      "execution_count": 11,
      "outputs": [
        {
          "output_type": "execute_result",
          "data": {
            "text/plain": [
              "(1167,)"
            ]
          },
          "metadata": {},
          "execution_count": 11
        }
      ]
    },
    {
      "cell_type": "code",
      "source": [
        "score.min()"
      ],
      "metadata": {
        "colab": {
          "base_uri": "https://localhost:8080/"
        },
        "id": "ax68ITL3rSHQ",
        "outputId": "0a3ab77d-6edd-46d7-85fd-4cd66fddb8cd"
      },
      "execution_count": 12,
      "outputs": [
        {
          "output_type": "execute_result",
          "data": {
            "text/plain": [
              "1"
            ]
          },
          "metadata": {},
          "execution_count": 12
        }
      ]
    },
    {
      "cell_type": "code",
      "source": [
        "score.max()"
      ],
      "metadata": {
        "colab": {
          "base_uri": "https://localhost:8080/"
        },
        "id": "CO4HYbLSrT6n",
        "outputId": "2430a804-0b27-48bd-e36b-08df1486e476"
      },
      "execution_count": 13,
      "outputs": [
        {
          "output_type": "execute_result",
          "data": {
            "text/plain": [
              "10"
            ]
          },
          "metadata": {},
          "execution_count": 13
        }
      ]
    },
    {
      "cell_type": "code",
      "source": [
        "score.mean()"
      ],
      "metadata": {
        "colab": {
          "base_uri": "https://localhost:8080/"
        },
        "id": "BU2IcGaqrWEZ",
        "outputId": "a70f2265-6a31-4b77-a1bb-2325483a53b5"
      },
      "execution_count": 14,
      "outputs": [
        {
          "output_type": "execute_result",
          "data": {
            "text/plain": [
              "7.250214224507284"
            ]
          },
          "metadata": {},
          "execution_count": 14
        }
      ]
    },
    {
      "cell_type": "markdown",
      "source": [
        "#NPS = %promoters - %detractors"
      ],
      "metadata": {
        "id": "1e-2CF5JrlyB"
      }
    },
    {
      "cell_type": "code",
      "source": [
        "promoters = score[score>=9].shape[0]\n",
        "detractors = score[score<=6].shape[0]\n",
        "total = score.shape[0]"
      ],
      "metadata": {
        "id": "GcZ2NdlbrXtM"
      },
      "execution_count": 15,
      "outputs": []
    },
    {
      "cell_type": "code",
      "source": [
        "per_prom = promoters/total * 100\n",
        "per_detra = detractors/total * 100"
      ],
      "metadata": {
        "id": "xY-q_7fXrcQC"
      },
      "execution_count": 16,
      "outputs": []
    },
    {
      "cell_type": "code",
      "source": [
        "NPS = per_prom - per_detra\n",
        "NPS"
      ],
      "metadata": {
        "colab": {
          "base_uri": "https://localhost:8080/"
        },
        "id": "7ZOOWzCTsMw-",
        "outputId": "efcd2a7f-da6d-49c9-efa1-1234a1432031"
      },
      "execution_count": 17,
      "outputs": [
        {
          "output_type": "execute_result",
          "data": {
            "text/plain": [
              "23.73607540702657"
            ]
          },
          "metadata": {},
          "execution_count": 17
        }
      ]
    },
    {
      "cell_type": "markdown",
      "source": [
        "#round() func"
      ],
      "metadata": {
        "id": "LHlAws9IseWQ"
      }
    },
    {
      "cell_type": "code",
      "source": [
        "np.round(NPS,2)"
      ],
      "metadata": {
        "colab": {
          "base_uri": "https://localhost:8080/"
        },
        "id": "Q6NSkOImsXcH",
        "outputId": "cd679e10-6b31-40f7-e82a-bb31fe47cffd"
      },
      "execution_count": 18,
      "outputs": [
        {
          "output_type": "execute_result",
          "data": {
            "text/plain": [
              "23.74"
            ]
          },
          "metadata": {},
          "execution_count": 18
        }
      ]
    },
    {
      "cell_type": "markdown",
      "source": [
        "\n",
        "\n",
        "---\n",
        "\n"
      ],
      "metadata": {
        "id": "uKYa5XNdupJ3"
      }
    },
    {
      "cell_type": "markdown",
      "source": [
        "# np.empty() func\n",
        "#### built-in function, helps to create the **empty array**"
      ],
      "metadata": {
        "id": "C3T2iPrQu-hC"
      }
    },
    {
      "cell_type": "markdown",
      "source": [
        "\n",
        "\n",
        "---\n",
        "\n",
        "\n",
        "\n",
        "---\n",
        "\n"
      ],
      "metadata": {
        "id": "gyjx7nkXLCe9"
      }
    },
    {
      "cell_type": "markdown",
      "source": [
        "#Categorial solution to calculate NPS"
      ],
      "metadata": {
        "id": "DccvyUXivgZL"
      }
    },
    {
      "cell_type": "code",
      "source": [
        "arr = np.empty(shape=score.shape,dtype='str')"
      ],
      "metadata": {
        "id": "lCSWk-uzuzsr"
      },
      "execution_count": 45,
      "outputs": []
    },
    {
      "cell_type": "code",
      "source": [
        "arr"
      ],
      "metadata": {
        "colab": {
          "base_uri": "https://localhost:8080/"
        },
        "id": "yxFt2PLQu1uu",
        "outputId": "e5b8bf76-0cd8-4889-e334-0805417e959d"
      },
      "execution_count": 46,
      "outputs": [
        {
          "output_type": "execute_result",
          "data": {
            "text/plain": [
              "array(['', '', '', ..., '', '', ''], dtype='<U1')"
            ]
          },
          "metadata": {},
          "execution_count": 46
        }
      ]
    },
    {
      "cell_type": "code",
      "source": [
        "arr[0]='Hello'"
      ],
      "metadata": {
        "id": "Q4oqbcOeYvyz"
      },
      "execution_count": 26,
      "outputs": []
    },
    {
      "cell_type": "code",
      "source": [
        "arr # index 0 has 'H' only because of the data type (i.e. type is only 1 character; U1)"
      ],
      "metadata": {
        "colab": {
          "base_uri": "https://localhost:8080/"
        },
        "id": "JoQK1W6caVeD",
        "outputId": "e7502a66-d872-49d8-8a1c-3859a380cefe"
      },
      "execution_count": 27,
      "outputs": [
        {
          "output_type": "execute_result",
          "data": {
            "text/plain": [
              "array(['H', '', '', ..., '', '', ''], dtype='<U1')"
            ]
          },
          "metadata": {},
          "execution_count": 27
        }
      ]
    },
    {
      "cell_type": "markdown",
      "source": [
        "#Assigning of value to the empty array\n",
        "####the length of the value storing in the index depends on the data type.\n",
        "#### let change the U1 -> U6 and again store **Hello** to 0th index."
      ],
      "metadata": {
        "id": "yvPnINGjYt6X"
      }
    },
    {
      "cell_type": "code",
      "source": [
        "arr=arr.astype('U10')"
      ],
      "metadata": {
        "id": "loKdYT3WW0MQ"
      },
      "execution_count": 47,
      "outputs": []
    },
    {
      "cell_type": "code",
      "source": [
        "arr[0]='Hello'"
      ],
      "metadata": {
        "id": "ArGrLPXyYkIL"
      },
      "execution_count": 22,
      "outputs": []
    },
    {
      "cell_type": "code",
      "source": [
        "arr"
      ],
      "metadata": {
        "colab": {
          "base_uri": "https://localhost:8080/"
        },
        "id": "i7Z2nBfjYpf3",
        "outputId": "20a52e40-b6bc-4f8f-96b5-3f3d798102e8"
      },
      "execution_count": 23,
      "outputs": [
        {
          "output_type": "execute_result",
          "data": {
            "text/plain": [
              "array(['Hello', '', '', ..., '', '', ''], dtype='<U6')"
            ]
          },
          "metadata": {},
          "execution_count": 23
        }
      ]
    },
    {
      "cell_type": "code",
      "source": [
        "arr[score<=6] = 'Detractors'"
      ],
      "metadata": {
        "id": "CR70OsPaYqUU"
      },
      "execution_count": 48,
      "outputs": []
    },
    {
      "cell_type": "code",
      "source": [
        "arr"
      ],
      "metadata": {
        "colab": {
          "base_uri": "https://localhost:8080/"
        },
        "id": "xRuquECyblvY",
        "outputId": "970a51bc-bf44-4be7-ed6d-a0e294f33169"
      },
      "execution_count": 49,
      "outputs": [
        {
          "output_type": "execute_result",
          "data": {
            "text/plain": [
              "array(['', '', 'Detractors', ..., 'Detractors', '', ''], dtype='<U10')"
            ]
          },
          "metadata": {},
          "execution_count": 49
        }
      ]
    },
    {
      "cell_type": "code",
      "source": [
        "arr[score>=9] = 'Promotors'\n",
        "arr"
      ],
      "metadata": {
        "colab": {
          "base_uri": "https://localhost:8080/"
        },
        "id": "ALya1wsObp4H",
        "outputId": "2da417ae-5eab-4166-e8f6-830cdfa2bed7"
      },
      "execution_count": 50,
      "outputs": [
        {
          "output_type": "execute_result",
          "data": {
            "text/plain": [
              "array(['', 'Promotors', 'Detractors', ..., 'Detractors', 'Promotors',\n",
              "       'Promotors'], dtype='<U10')"
            ]
          },
          "metadata": {},
          "execution_count": 50
        }
      ]
    },
    {
      "cell_type": "code",
      "source": [
        "arr[(score>=7) & (score<=8)] = 'Passive'\n",
        "arr"
      ],
      "metadata": {
        "colab": {
          "base_uri": "https://localhost:8080/"
        },
        "id": "NLCvWx_3b3pP",
        "outputId": "bc08201c-c670-432a-e07c-cb61d839a3b6"
      },
      "execution_count": 51,
      "outputs": [
        {
          "output_type": "execute_result",
          "data": {
            "text/plain": [
              "array(['Passive', 'Promotors', 'Detractors', ..., 'Detractors',\n",
              "       'Promotors', 'Promotors'], dtype='<U10')"
            ]
          },
          "metadata": {},
          "execution_count": 51
        }
      ]
    },
    {
      "cell_type": "code",
      "source": [
        "detractors_count = arr[arr=='Detractors'].shape[0]\n",
        "promoters_count = arr[arr=='Promotors'].shape[0]"
      ],
      "metadata": {
        "id": "OzUI1yRRc4Ut"
      },
      "execution_count": 56,
      "outputs": []
    },
    {
      "cell_type": "markdown",
      "source": [
        "# np.unique() func\n",
        "#### Returns the sorted unique elements of an array.\n",
        "#### 3 optional outputs in addition to the unique elements:\n",
        "\n",
        "\n",
        "```\n",
        "# unique(ar, return_index=False, return_inverse=False, return_counts=False,\n",
        "axis=None)\n",
        "```\n",
        "unique_elements - give all the unique elements\n",
        "indices - index of the unique elements\n",
        "inverse_indices - reconstruct the original array\n",
        "counts - total counts of each unique elements\n",
        "\n"
      ],
      "metadata": {
        "id": "5CcsX9mddbKJ"
      }
    },
    {
      "cell_type": "code",
      "source": [
        "np.unique(arr)"
      ],
      "metadata": {
        "colab": {
          "base_uri": "https://localhost:8080/"
        },
        "id": "KJwWQk9wdCxO",
        "outputId": "44bc757e-33ac-4b4e-8ccf-15e7e16e7e35"
      },
      "execution_count": 59,
      "outputs": [
        {
          "output_type": "execute_result",
          "data": {
            "text/plain": [
              "array(['Detractors', 'Passive', 'Promotors'], dtype='<U10')"
            ]
          },
          "metadata": {},
          "execution_count": 59
        }
      ]
    },
    {
      "cell_type": "code",
      "source": [
        "unique_elements, indices, inverse_indices, counts = np.unique(arr, return_index=True, return_inverse=True, return_counts=True,\n",
        "axis=None)"
      ],
      "metadata": {
        "id": "ZeewE3PqdXOl"
      },
      "execution_count": 62,
      "outputs": []
    },
    {
      "cell_type": "code",
      "source": [
        "unique_elements, indices, inverse_indices, counts"
      ],
      "metadata": {
        "colab": {
          "base_uri": "https://localhost:8080/"
        },
        "id": "Tx1dC5ZCe1Jm",
        "outputId": "31ae872e-4ee7-47b1-8e4c-8ebe60c4c85a"
      },
      "execution_count": 63,
      "outputs": [
        {
          "output_type": "execute_result",
          "data": {
            "text/plain": [
              "(array(['Detractors', 'Passive', 'Promotors'], dtype='<U10'),\n",
              " array([2, 0, 1]),\n",
              " array([1, 2, 0, ..., 0, 2, 2]),\n",
              " array([332, 226, 609]))"
            ]
          },
          "metadata": {},
          "execution_count": 63
        }
      ]
    },
    {
      "cell_type": "code",
      "source": [
        "arr[inverse_indices] # helps to reconstruct the original input array"
      ],
      "metadata": {
        "colab": {
          "base_uri": "https://localhost:8080/"
        },
        "id": "NorxM-JgvlR4",
        "outputId": "2727ff41-e97f-4222-a661-a1073891c6d0"
      },
      "execution_count": 64,
      "outputs": [
        {
          "output_type": "execute_result",
          "data": {
            "text/plain": [
              "array(['Promotors', 'Detractors', 'Passive', ..., 'Passive', 'Detractors',\n",
              "       'Detractors'], dtype='<U10')"
            ]
          },
          "metadata": {},
          "execution_count": 64
        }
      ]
    },
    {
      "cell_type": "code",
      "source": [
        "per_detractors = counts[0]/counts.sum() * 100\n",
        "per_detractors"
      ],
      "metadata": {
        "colab": {
          "base_uri": "https://localhost:8080/"
        },
        "id": "kzU6oonjwNhK",
        "outputId": "5fdadb27-53d6-4967-ff5a-a16c3094e12e"
      },
      "execution_count": 75,
      "outputs": [
        {
          "output_type": "execute_result",
          "data": {
            "text/plain": [
              "28.449014567266495"
            ]
          },
          "metadata": {},
          "execution_count": 75
        }
      ]
    },
    {
      "cell_type": "code",
      "source": [
        "per_promotors = counts[2]/counts.sum() * 100\n",
        "per_promotors"
      ],
      "metadata": {
        "colab": {
          "base_uri": "https://localhost:8080/"
        },
        "id": "508xDu2WxPsh",
        "outputId": "1be3e5c6-7710-41a4-92a1-505dc21c628f"
      },
      "execution_count": 74,
      "outputs": [
        {
          "output_type": "execute_result",
          "data": {
            "text/plain": [
              "52.185089974293064"
            ]
          },
          "metadata": {},
          "execution_count": 74
        }
      ]
    },
    {
      "cell_type": "code",
      "source": [
        "NPS = per_promotors - per_detractors\n",
        "NPS"
      ],
      "metadata": {
        "colab": {
          "base_uri": "https://localhost:8080/"
        },
        "id": "-hMuyYFFxWAp",
        "outputId": "39eeceb6-a520-4e9f-d6ea-d4cf010e8466"
      },
      "execution_count": 77,
      "outputs": [
        {
          "output_type": "execute_result",
          "data": {
            "text/plain": [
              "23.73607540702657"
            ]
          },
          "metadata": {},
          "execution_count": 77
        }
      ]
    }
  ]
}