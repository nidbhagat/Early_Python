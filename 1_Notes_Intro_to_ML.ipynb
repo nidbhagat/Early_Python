{
  "nbformat": 4,
  "nbformat_minor": 0,
  "metadata": {
    "colab": {
      "provenance": [],
      "include_colab_link": true
    },
    "kernelspec": {
      "name": "python3",
      "display_name": "Python 3"
    },
    "language_info": {
      "name": "python"
    }
  },
  "cells": [
    {
      "cell_type": "markdown",
      "metadata": {
        "id": "view-in-github",
        "colab_type": "text"
      },
      "source": [
        "<a href=\"https://colab.research.google.com/github/nidbhagat/Early_Python/blob/main/1_Notes_Intro_to_ML.ipynb\" target=\"_parent\"><img src=\"https://colab.research.google.com/assets/colab-badge.svg\" alt=\"Open In Colab\"/></a>"
      ]
    },
    {
      "cell_type": "markdown",
      "source": [
        "## Content\n",
        "- Agenda\n",
        "- Already Learnt\n",
        "- DSML Libraries\n",
        "  - Plotting Examples\n",
        "  - Prob and Stats\n",
        "  - Linear Algebra\n",
        "- TO Learn\n",
        "- ML v/s Classical Programming\n",
        "  - SDE vs ML Pipeline\n",
        "  - Tom Mitchell's definition of ML Task\n",
        "  - ETP\n",
        "- ML: Categorisation based on Tasks\n",
        "\n",
        "  - Classifcation\n",
        "  - Regression      \n",
        "  - Classification v/s Regression\n",
        "  - Supervised Learning\n",
        "  - Clustering\n",
        "  - Unsupervised Learning"
      ],
      "metadata": {
        "id": "Kd3X-8_Yy5GW"
      }
    },
    {
      "cell_type": "markdown",
      "source": [
        "### Agenda"
      ],
      "metadata": {
        "id": "6aVY9g3cPs56"
      }
    },
    {
      "cell_type": "markdown",
      "source": [
        "<img src='https://drive.google.com/uc?id=1C2BIUmdjYrpiyY6fxZos2f4X89YpR6KG' width=800>"
      ],
      "metadata": {
        "id": "yh-r-DJ9u9G3"
      }
    },
    {
      "cell_type": "markdown",
      "source": [
        "### ALREADY LEARNT\n",
        "\n",
        "\n",
        "\n"
      ],
      "metadata": {
        "id": "yAvDXVzZSe9g"
      }
    },
    {
      "cell_type": "markdown",
      "source": [
        "<img src='https://drive.google.com/uc?id=10YJp80v2Ja1u5i4VV2_DYfrvSokMobWX' width=800>\n"
      ],
      "metadata": {
        "id": "NOXhQhrrM1IR"
      }
    },
    {
      "cell_type": "markdown",
      "source": [
        "### DSML Libraries\n",
        "\n"
      ],
      "metadata": {
        "id": "84f9DwlibpN1"
      }
    },
    {
      "cell_type": "markdown",
      "source": [
        "<img src='https://drive.google.com/uc?id=1Z8AvhG6AYrx0kEj6qKZxfribYTviA4uQ' width=800>\n"
      ],
      "metadata": {
        "id": "43jqKd9Lv34x"
      }
    },
    {
      "cell_type": "markdown",
      "source": [
        "<img src='https://drive.google.com/uc?id=1cY91zGoNWV8ce3Yf2E5nwDO22tqip3Vo' width=800>\n"
      ],
      "metadata": {
        "id": "3YnGykylv5tc"
      }
    },
    {
      "cell_type": "markdown",
      "source": [
        "#### Plotting Examples\n",
        "\n",
        "\n",
        "\n",
        "\n"
      ],
      "metadata": {
        "id": "JQ8_5bQdhRJl"
      }
    },
    {
      "cell_type": "markdown",
      "source": [
        "<img src='https://drive.google.com/uc?id=1ksEXlP4Z9eUEKangmlLhNZicxmqSRMAt' width=800>\n"
      ],
      "metadata": {
        "id": "kQe_evDnQm2Y"
      }
    },
    {
      "cell_type": "markdown",
      "source": [
        "<img src='https://drive.google.com/uc?id=1pc9DcXIcK5PdpBt1ZTN5y0dAE7bcYO7K' width=800>\n"
      ],
      "metadata": {
        "id": "00MndbX6xzIp"
      }
    },
    {
      "cell_type": "markdown",
      "source": [
        "#### Probability and Statistics"
      ],
      "metadata": {
        "id": "w2uA5JbBhRL4"
      }
    },
    {
      "cell_type": "markdown",
      "source": [
        "<img src='https://drive.google.com/uc?id=1V4GI7VbnU1B4Lls79v-Omu1C3mntq17n' width=800>"
      ],
      "metadata": {
        "id": "LqYbAOQWyhOG"
      }
    },
    {
      "cell_type": "markdown",
      "source": [
        "<img src='https://drive.google.com/uc?id=1RK6RHalXUbv7tJ7ZygclZJjUPOHcb8wl' width=800>\n"
      ],
      "metadata": {
        "id": "jlJXz68oywt0"
      }
    },
    {
      "cell_type": "markdown",
      "source": [
        "<img src='https://drive.google.com/uc?id=1EmXF11gtU3AGY7jJOZET4BEXsjmY8a-n' width=800>\n"
      ],
      "metadata": {
        "id": "TYp-zdn24BwL"
      }
    },
    {
      "cell_type": "markdown",
      "source": [
        "#### Linear Algebra\n",
        "\n",
        "\n"
      ],
      "metadata": {
        "id": "KrP8-7YvhRQV"
      }
    },
    {
      "cell_type": "markdown",
      "source": [
        "<img src='https://drive.google.com/uc?id=11es7qkybQGR4wAmOVIVRs9dYvR2lEDGT' width=800>\n"
      ],
      "metadata": {
        "id": "Lar2tl0F4WaT"
      }
    },
    {
      "cell_type": "markdown",
      "source": [
        "<img src='https://drive.google.com/uc?id=1SnZhl-SN_bUfPtyR_dqLe4gieb_3k5gx' width=800>"
      ],
      "metadata": {
        "id": "ThTkwhlN4Wcp"
      }
    },
    {
      "cell_type": "markdown",
      "source": [
        "\n",
        "<img src='https://drive.google.com/uc?id=15X2o5B4PPEILKxq7kPQL0srfsKEBGYuj' width=800>"
      ],
      "metadata": {
        "id": "-rG7GMlvVNfG"
      }
    },
    {
      "cell_type": "markdown",
      "source": [
        "### TO LEARN  "
      ],
      "metadata": {
        "id": "AGdv-rzMhRW4"
      }
    },
    {
      "cell_type": "markdown",
      "source": [
        "### ML v/s Classical Programming"
      ],
      "metadata": {
        "id": "nZbQQO17xP5T"
      }
    },
    {
      "cell_type": "markdown",
      "source": [
        "<img src='https://drive.google.com/uc?id=1W3a-WULhWso2x0PbSR2Z_lxIJ5DaAaGk' width=800>"
      ],
      "metadata": {
        "id": "SJ1s9ARo5WsY"
      }
    },
    {
      "cell_type": "markdown",
      "source": [
        "#### **How does the SDE pipleline look?**\n",
        "\n"
      ],
      "metadata": {
        "id": "259QdYeShRb2"
      }
    },
    {
      "cell_type": "markdown",
      "source": [
        "<img src='https://drive.google.com/uc?id=1c2zHetGUEn6FNt1hEIajh-4iDSsoJ974' width=800>\n"
      ],
      "metadata": {
        "id": "QI8cxEnF6WCm"
      }
    },
    {
      "cell_type": "markdown",
      "source": [
        "<img src='https://drive.google.com/uc?id=1PkREmb49ABwkpn5Pvf5Wlqn19MxRMg0S' width=800>\n"
      ],
      "metadata": {
        "id": "kr4LOZAH6mMM"
      }
    },
    {
      "cell_type": "markdown",
      "source": [
        "#### How does the ML pipeline look?\n",
        "\n"
      ],
      "metadata": {
        "id": "AaN5JwR5xsRe"
      }
    },
    {
      "cell_type": "markdown",
      "source": [
        "<img src='https://drive.google.com/uc?id=1o13qceJo1AAEYr64TvMVZEvxZ0pybKpK' width=800>"
      ],
      "metadata": {
        "id": "01DPA8mM6w5D"
      }
    },
    {
      "cell_type": "markdown",
      "source": [
        "<img src='https://drive.google.com/uc?id=18b8T00_p29IL-pswfhhcvmKsUPbq4KlE' width=800>"
      ],
      "metadata": {
        "id": "bU5TOB8J7V4Y"
      }
    },
    {
      "cell_type": "markdown",
      "source": [
        "#### \"Well defined\" ML task - Definition by Tom Mitchell"
      ],
      "metadata": {
        "id": "4WHBPyld0Kr6"
      }
    },
    {
      "cell_type": "markdown",
      "source": [
        "\n",
        "<img src='https://drive.google.com/uc?id=1EIscKR4MhkO3kRpDH86heigDiTXQUwjN' width=800>"
      ],
      "metadata": {
        "id": "6UW-O4_R7t2a"
      }
    },
    {
      "cell_type": "markdown",
      "source": [
        "\n",
        "<img src='https://drive.google.com/uc?id=19PyZnOFOBRHDVwpb1PKtFiB4L7pI7g-i' width=800>"
      ],
      "metadata": {
        "id": "a8ab-Thp7t-P"
      }
    },
    {
      "cell_type": "markdown",
      "source": [
        "#### ETP Example"
      ],
      "metadata": {
        "id": "HT5sp1zuELU1"
      }
    },
    {
      "cell_type": "markdown",
      "source": [
        "<img src='https://drive.google.com/uc?id=1xmDpjWZ1WOWetTNWNGth60thSr-ibpIp' width=800>"
      ],
      "metadata": {
        "id": "KauuwFZx7V-k"
      }
    },
    {
      "cell_type": "markdown",
      "source": [
        "\n",
        "<img src='https://drive.google.com/uc?id=15X2o5B4PPEILKxq7kPQL0srfsKEBGYuj' width=800>"
      ],
      "metadata": {
        "id": "R6vusM8afr5R"
      }
    },
    {
      "cell_type": "markdown",
      "source": [
        "\n",
        "\n",
        "\n",
        "<img src='https://drive.google.com/uc?id=1CnyLYmHfIsZhRsEJ5YvhvZCD1lGJckZg' width=800>\n"
      ],
      "metadata": {
        "id": "EYbHvxg7VbQW"
      }
    },
    {
      "cell_type": "markdown",
      "source": [
        "#### ML Topics Categorisation"
      ],
      "metadata": {
        "id": "ljrzETUKJLv-"
      }
    },
    {
      "cell_type": "markdown",
      "source": [
        "<img src='https://drive.google.com/uc?id=1mi6WV7Pfs_2Uu1LhlL3_rCCuZEcG0uip' width=800>"
      ],
      "metadata": {
        "id": "8p-yL9zo8-cE"
      }
    },
    {
      "cell_type": "markdown",
      "source": [
        "<img src='https://drive.google.com/uc?id=15ucp5k3RNxYtLtmSjfTmIiagIgtJR0_0' width=800>"
      ],
      "metadata": {
        "id": "-8iap3Lv9jSS"
      }
    },
    {
      "cell_type": "markdown",
      "source": [
        "### ML Categorisation based on Tasks"
      ],
      "metadata": {
        "id": "7BuxD1M4OBjY"
      }
    },
    {
      "cell_type": "markdown",
      "source": [
        "#### Classification"
      ],
      "metadata": {
        "id": "hrGzlgv4OH1e"
      }
    },
    {
      "cell_type": "markdown",
      "source": [
        "<img src='https://drive.google.com/uc?id=180H1_PNOAk99IWOB5_p9iwt3Z7wnQ5C4' width=800>"
      ],
      "metadata": {
        "id": "lhSNmSBm9yEr"
      }
    },
    {
      "cell_type": "markdown",
      "source": [
        "<img src='https://drive.google.com/uc?id=1bNuJbKIQK5aCS2kBnpAj4Jjlnl3JGLez' width=800>"
      ],
      "metadata": {
        "id": "I73YFTB993Eu"
      }
    },
    {
      "cell_type": "markdown",
      "source": [
        "#### Regression"
      ],
      "metadata": {
        "id": "-f2DGnmBOWdH"
      }
    },
    {
      "cell_type": "markdown",
      "source": [
        "<img src='https://drive.google.com/uc?id=130O-BY41EEukdtctjWK2nAnoBUgwyKID' width=800>"
      ],
      "metadata": {
        "id": "MzaAFeEx-UZ3"
      }
    },
    {
      "cell_type": "markdown",
      "source": [
        "#### Regression v/s Classification"
      ],
      "metadata": {
        "id": "MiJkVJPPOj14"
      }
    },
    {
      "cell_type": "markdown",
      "source": [
        "<img src='https://drive.google.com/uc?id=1p9pPCDtOwlRTWrVGfaCMIOKXtyWd0xjC' width=800>\n"
      ],
      "metadata": {
        "id": "HQJ2Kk0b-Y4z"
      }
    },
    {
      "cell_type": "markdown",
      "source": [
        "<img src='https://drive.google.com/uc?id=1Q8MFunwq7Boq7Y_XxMXuBpAnmxvJb2S_' width=800>\n"
      ],
      "metadata": {
        "id": "kEXgwOGl_CZ4"
      }
    },
    {
      "cell_type": "markdown",
      "source": [
        "\n",
        "<img src='https://drive.google.com/uc?id=15X2o5B4PPEILKxq7kPQL0srfsKEBGYuj' width=800>"
      ],
      "metadata": {
        "id": "sna3Ufl3f4LO"
      }
    },
    {
      "cell_type": "markdown",
      "source": [
        "\n",
        "\n",
        "\n",
        "<img src='https://drive.google.com/uc?id=1CnyLYmHfIsZhRsEJ5YvhvZCD1lGJckZg' width=800>\n"
      ],
      "metadata": {
        "id": "e9eDc0CRg786"
      }
    },
    {
      "cell_type": "markdown",
      "source": [
        "<img src='https://drive.google.com/uc?id=1GhkArAAxjd2pNfChOYWe8TAoRWhAw2ID' width=800>"
      ],
      "metadata": {
        "id": "YSaztZlUgnSF"
      }
    },
    {
      "cell_type": "markdown",
      "source": [
        "#### Supervised Learning"
      ],
      "metadata": {
        "id": "AaTuefp6Oo7a"
      }
    },
    {
      "cell_type": "markdown",
      "source": [
        "\n",
        "<img src='https://drive.google.com/uc?id=1dEFmIXNUzuhVEdJo3IwdYHT2kuRoY4Ct' width=800>\n"
      ],
      "metadata": {
        "id": "ndWOMmto_dYM"
      }
    },
    {
      "cell_type": "markdown",
      "source": [
        "#### Clustering"
      ],
      "metadata": {
        "id": "mvHoYG44OtIC"
      }
    },
    {
      "cell_type": "markdown",
      "source": [
        "\n",
        "<img src='https://drive.google.com/uc?id=1q2ldtYcjujOGIG4IUklwfD2pOnJY0sGR' width=800>\n"
      ],
      "metadata": {
        "id": "Znu8EJgQ_hDG"
      }
    },
    {
      "cell_type": "markdown",
      "source": [
        "\n",
        "<img src='https://drive.google.com/uc?id=1Oi2lKKaK0rTm5GYqth8IWvyOgMmHrlB2' width=800>\n"
      ],
      "metadata": {
        "id": "NCkDyqrB_he8"
      }
    },
    {
      "cell_type": "markdown",
      "source": [
        "\n",
        "<img src='https://drive.google.com/uc?id=1a6Bc0DPf-BWXXbcEF-uok8uwkkyKgv8P' width=800>"
      ],
      "metadata": {
        "id": "yF4j9M5H_hzI"
      }
    },
    {
      "cell_type": "markdown",
      "source": [
        "#### Unsupervised Learning"
      ],
      "metadata": {
        "id": "NU8H3XR7OtMk"
      }
    },
    {
      "cell_type": "markdown",
      "source": [
        "\n",
        "<img src='https://drive.google.com/uc?id=1kSFaQfYOpumsJbwLevt6v7J8J8oeBT_d' width=800>\n"
      ],
      "metadata": {
        "id": "aJoDp3Dp_iBm"
      }
    },
    {
      "cell_type": "markdown",
      "source": [
        "\n",
        "<img src='https://drive.google.com/uc?id=1-0Eg_CSwSOnyH2NCADL4V0TgAo97_HUp' width=800>\n"
      ],
      "metadata": {
        "id": "wy0RvlqI__dL"
      }
    },
    {
      "cell_type": "markdown",
      "source": [
        "\n",
        "<img src='https://drive.google.com/uc?id=15X2o5B4PPEILKxq7kPQL0srfsKEBGYuj' width=800>"
      ],
      "metadata": {
        "id": "fMA8___ZhBQl"
      }
    },
    {
      "cell_type": "markdown",
      "source": [
        "\n",
        "\n",
        "\n",
        "<img src='https://drive.google.com/uc?id=1CnyLYmHfIsZhRsEJ5YvhvZCD1lGJckZg' width=800>\n"
      ],
      "metadata": {
        "id": "bJSnDkmLhBQz"
      }
    },
    {
      "cell_type": "markdown",
      "source": [
        "\n",
        "\n",
        "\n",
        "<img src='https://drive.google.com/uc?id=1wTUfSSW3G7_YB4fmovnrhm3DyDqfyZs2' width=800>\n"
      ],
      "metadata": {
        "id": "fKY-gdgMVygS"
      }
    }
  ]
}